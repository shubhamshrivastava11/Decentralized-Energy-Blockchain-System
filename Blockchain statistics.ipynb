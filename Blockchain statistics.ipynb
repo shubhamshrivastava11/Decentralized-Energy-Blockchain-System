{
 "cells": [
  {
   "cell_type": "code",
   "execution_count": 47,
   "id": "3afbf438",
   "metadata": {},
   "outputs": [],
   "source": [
    "import pandas as pd\n",
    "import numpy as np\n",
    "import matplotlib.pyplot as plt"
   ]
  },
  {
   "cell_type": "code",
   "execution_count": 48,
   "id": "7f665023",
   "metadata": {},
   "outputs": [],
   "source": [
    "df_new = pd.read_csv(\"BPD.csv\")\n",
    "df1 = pd.read_csv(\"BPD_related1.csv\")\n",
    "df2 = pd.read_csv(\"BPD_related2.csv\")\n",
    "df3 = pd.read_csv(\"BPD_related3.csv\")\n",
    "df_new = df_new.dropna()\n",
    "df1_clean = df1.dropna()\n",
    "df2_clean = df2.dropna()\n",
    "df3_clean = df3.dropna()"
   ]
  },
  {
   "cell_type": "code",
   "execution_count": 49,
   "id": "75cbd33d",
   "metadata": {},
   "outputs": [
    {
     "data": {
      "text/html": [
       "<div>\n",
       "<style scoped>\n",
       "    .dataframe tbody tr th:only-of-type {\n",
       "        vertical-align: middle;\n",
       "    }\n",
       "\n",
       "    .dataframe tbody tr th {\n",
       "        vertical-align: top;\n",
       "    }\n",
       "\n",
       "    .dataframe thead th {\n",
       "        text-align: right;\n",
       "    }\n",
       "</style>\n",
       "<table border=\"1\" class=\"dataframe\">\n",
       "  <thead>\n",
       "    <tr style=\"text-align: right;\">\n",
       "      <th></th>\n",
       "      <th>Send Rates</th>\n",
       "      <th>Block Size</th>\n",
       "      <th>Avg Latency</th>\n",
       "      <th>Throughput</th>\n",
       "    </tr>\n",
       "  </thead>\n",
       "  <tbody>\n",
       "    <tr>\n",
       "      <th>0</th>\n",
       "      <td>10.0</td>\n",
       "      <td>10</td>\n",
       "      <td>0.33</td>\n",
       "      <td>10.0</td>\n",
       "    </tr>\n",
       "    <tr>\n",
       "      <th>1</th>\n",
       "      <td>10.0</td>\n",
       "      <td>20</td>\n",
       "      <td>0.85</td>\n",
       "      <td>10.0</td>\n",
       "    </tr>\n",
       "    <tr>\n",
       "      <th>2</th>\n",
       "      <td>10.0</td>\n",
       "      <td>30</td>\n",
       "      <td>1.19</td>\n",
       "      <td>10.0</td>\n",
       "    </tr>\n",
       "    <tr>\n",
       "      <th>3</th>\n",
       "      <td>10.0</td>\n",
       "      <td>40</td>\n",
       "      <td>1.22</td>\n",
       "      <td>9.8</td>\n",
       "    </tr>\n",
       "    <tr>\n",
       "      <th>4</th>\n",
       "      <td>10.0</td>\n",
       "      <td>50</td>\n",
       "      <td>1.18</td>\n",
       "      <td>10.0</td>\n",
       "    </tr>\n",
       "    <tr>\n",
       "      <th>...</th>\n",
       "      <td>...</td>\n",
       "      <td>...</td>\n",
       "      <td>...</td>\n",
       "      <td>...</td>\n",
       "    </tr>\n",
       "    <tr>\n",
       "      <th>395</th>\n",
       "      <td>200.5</td>\n",
       "      <td>160</td>\n",
       "      <td>1.35</td>\n",
       "      <td>160.8</td>\n",
       "    </tr>\n",
       "    <tr>\n",
       "      <th>396</th>\n",
       "      <td>187.5</td>\n",
       "      <td>170</td>\n",
       "      <td>2.17</td>\n",
       "      <td>158.4</td>\n",
       "    </tr>\n",
       "    <tr>\n",
       "      <th>397</th>\n",
       "      <td>198.9</td>\n",
       "      <td>180</td>\n",
       "      <td>1.31</td>\n",
       "      <td>163.5</td>\n",
       "    </tr>\n",
       "    <tr>\n",
       "      <th>398</th>\n",
       "      <td>197.0</td>\n",
       "      <td>190</td>\n",
       "      <td>1.65</td>\n",
       "      <td>163.0</td>\n",
       "    </tr>\n",
       "    <tr>\n",
       "      <th>399</th>\n",
       "      <td>198.3</td>\n",
       "      <td>200</td>\n",
       "      <td>1.63</td>\n",
       "      <td>161.6</td>\n",
       "    </tr>\n",
       "  </tbody>\n",
       "</table>\n",
       "<p>400 rows × 4 columns</p>\n",
       "</div>"
      ],
      "text/plain": [
       "     Send Rates  Block Size  Avg Latency  Throughput\n",
       "0          10.0          10         0.33        10.0\n",
       "1          10.0          20         0.85        10.0\n",
       "2          10.0          30         1.19        10.0\n",
       "3          10.0          40         1.22         9.8\n",
       "4          10.0          50         1.18        10.0\n",
       "..          ...         ...          ...         ...\n",
       "395       200.5         160         1.35       160.8\n",
       "396       187.5         170         2.17       158.4\n",
       "397       198.9         180         1.31       163.5\n",
       "398       197.0         190         1.65       163.0\n",
       "399       198.3         200         1.63       161.6\n",
       "\n",
       "[400 rows x 4 columns]"
      ]
     },
     "execution_count": 49,
     "metadata": {},
     "output_type": "execute_result"
    }
   ],
   "source": [
    "df1"
   ]
  },
  {
   "cell_type": "code",
   "execution_count": 50,
   "id": "676bcc4d",
   "metadata": {},
   "outputs": [
    {
     "data": {
      "text/html": [
       "<div>\n",
       "<style scoped>\n",
       "    .dataframe tbody tr th:only-of-type {\n",
       "        vertical-align: middle;\n",
       "    }\n",
       "\n",
       "    .dataframe tbody tr th {\n",
       "        vertical-align: top;\n",
       "    }\n",
       "\n",
       "    .dataframe thead th {\n",
       "        text-align: right;\n",
       "    }\n",
       "</style>\n",
       "<table border=\"1\" class=\"dataframe\">\n",
       "  <thead>\n",
       "    <tr style=\"text-align: right;\">\n",
       "      <th></th>\n",
       "      <th>Send Rates</th>\n",
       "      <th>Block Size</th>\n",
       "      <th>Avg Latency</th>\n",
       "      <th>Throughput</th>\n",
       "    </tr>\n",
       "  </thead>\n",
       "  <tbody>\n",
       "    <tr>\n",
       "      <th>0</th>\n",
       "      <td>10.0</td>\n",
       "      <td>10</td>\n",
       "      <td>0.32</td>\n",
       "      <td>10.0</td>\n",
       "    </tr>\n",
       "    <tr>\n",
       "      <th>1</th>\n",
       "      <td>10.0</td>\n",
       "      <td>20</td>\n",
       "      <td>0.83</td>\n",
       "      <td>10.0</td>\n",
       "    </tr>\n",
       "    <tr>\n",
       "      <th>2</th>\n",
       "      <td>10.0</td>\n",
       "      <td>30</td>\n",
       "      <td>1.17</td>\n",
       "      <td>9.9</td>\n",
       "    </tr>\n",
       "    <tr>\n",
       "      <th>3</th>\n",
       "      <td>10.0</td>\n",
       "      <td>40</td>\n",
       "      <td>1.16</td>\n",
       "      <td>9.8</td>\n",
       "    </tr>\n",
       "    <tr>\n",
       "      <th>4</th>\n",
       "      <td>10.0</td>\n",
       "      <td>50</td>\n",
       "      <td>1.16</td>\n",
       "      <td>9.8</td>\n",
       "    </tr>\n",
       "    <tr>\n",
       "      <th>...</th>\n",
       "      <td>...</td>\n",
       "      <td>...</td>\n",
       "      <td>...</td>\n",
       "      <td>...</td>\n",
       "    </tr>\n",
       "    <tr>\n",
       "      <th>395</th>\n",
       "      <td>200.6</td>\n",
       "      <td>160</td>\n",
       "      <td>1.98</td>\n",
       "      <td>159.8</td>\n",
       "    </tr>\n",
       "    <tr>\n",
       "      <th>396</th>\n",
       "      <td>200.3</td>\n",
       "      <td>170</td>\n",
       "      <td>2.24</td>\n",
       "      <td>161.0</td>\n",
       "    </tr>\n",
       "    <tr>\n",
       "      <th>397</th>\n",
       "      <td>200.5</td>\n",
       "      <td>180</td>\n",
       "      <td>2.09</td>\n",
       "      <td>161.8</td>\n",
       "    </tr>\n",
       "    <tr>\n",
       "      <th>398</th>\n",
       "      <td>200.3</td>\n",
       "      <td>190</td>\n",
       "      <td>2.24</td>\n",
       "      <td>160.4</td>\n",
       "    </tr>\n",
       "    <tr>\n",
       "      <th>399</th>\n",
       "      <td>200.1</td>\n",
       "      <td>200</td>\n",
       "      <td>1.67</td>\n",
       "      <td>160.8</td>\n",
       "    </tr>\n",
       "  </tbody>\n",
       "</table>\n",
       "<p>400 rows × 4 columns</p>\n",
       "</div>"
      ],
      "text/plain": [
       "     Send Rates  Block Size  Avg Latency  Throughput\n",
       "0          10.0          10         0.32        10.0\n",
       "1          10.0          20         0.83        10.0\n",
       "2          10.0          30         1.17         9.9\n",
       "3          10.0          40         1.16         9.8\n",
       "4          10.0          50         1.16         9.8\n",
       "..          ...         ...          ...         ...\n",
       "395       200.6         160         1.98       159.8\n",
       "396       200.3         170         2.24       161.0\n",
       "397       200.5         180         2.09       161.8\n",
       "398       200.3         190         2.24       160.4\n",
       "399       200.1         200         1.67       160.8\n",
       "\n",
       "[400 rows x 4 columns]"
      ]
     },
     "execution_count": 50,
     "metadata": {},
     "output_type": "execute_result"
    }
   ],
   "source": [
    "df2"
   ]
  },
  {
   "cell_type": "code",
   "execution_count": 51,
   "id": "a733d4c7",
   "metadata": {},
   "outputs": [
    {
     "data": {
      "text/html": [
       "<div>\n",
       "<style scoped>\n",
       "    .dataframe tbody tr th:only-of-type {\n",
       "        vertical-align: middle;\n",
       "    }\n",
       "\n",
       "    .dataframe tbody tr th {\n",
       "        vertical-align: top;\n",
       "    }\n",
       "\n",
       "    .dataframe thead th {\n",
       "        text-align: right;\n",
       "    }\n",
       "</style>\n",
       "<table border=\"1\" class=\"dataframe\">\n",
       "  <thead>\n",
       "    <tr style=\"text-align: right;\">\n",
       "      <th></th>\n",
       "      <th>Send Rates</th>\n",
       "      <th>Block Size</th>\n",
       "      <th>Avg Latency</th>\n",
       "      <th>Throughput</th>\n",
       "    </tr>\n",
       "  </thead>\n",
       "  <tbody>\n",
       "    <tr>\n",
       "      <th>0</th>\n",
       "      <td>10.0</td>\n",
       "      <td>10</td>\n",
       "      <td>0.30</td>\n",
       "      <td>10.0</td>\n",
       "    </tr>\n",
       "    <tr>\n",
       "      <th>1</th>\n",
       "      <td>10.0</td>\n",
       "      <td>20</td>\n",
       "      <td>0.81</td>\n",
       "      <td>10.0</td>\n",
       "    </tr>\n",
       "    <tr>\n",
       "      <th>2</th>\n",
       "      <td>10.0</td>\n",
       "      <td>30</td>\n",
       "      <td>1.13</td>\n",
       "      <td>9.9</td>\n",
       "    </tr>\n",
       "    <tr>\n",
       "      <th>3</th>\n",
       "      <td>10.0</td>\n",
       "      <td>40</td>\n",
       "      <td>1.14</td>\n",
       "      <td>9.9</td>\n",
       "    </tr>\n",
       "    <tr>\n",
       "      <th>4</th>\n",
       "      <td>10.0</td>\n",
       "      <td>50</td>\n",
       "      <td>1.14</td>\n",
       "      <td>9.9</td>\n",
       "    </tr>\n",
       "    <tr>\n",
       "      <th>...</th>\n",
       "      <td>...</td>\n",
       "      <td>...</td>\n",
       "      <td>...</td>\n",
       "      <td>...</td>\n",
       "    </tr>\n",
       "    <tr>\n",
       "      <th>395</th>\n",
       "      <td>193.2</td>\n",
       "      <td>160</td>\n",
       "      <td>2.90</td>\n",
       "      <td>159.0</td>\n",
       "    </tr>\n",
       "    <tr>\n",
       "      <th>396</th>\n",
       "      <td>200.9</td>\n",
       "      <td>170</td>\n",
       "      <td>2.23</td>\n",
       "      <td>154.9</td>\n",
       "    </tr>\n",
       "    <tr>\n",
       "      <th>397</th>\n",
       "      <td>199.8</td>\n",
       "      <td>180</td>\n",
       "      <td>2.01</td>\n",
       "      <td>157.2</td>\n",
       "    </tr>\n",
       "    <tr>\n",
       "      <th>398</th>\n",
       "      <td>200.6</td>\n",
       "      <td>190</td>\n",
       "      <td>2.11</td>\n",
       "      <td>160.4</td>\n",
       "    </tr>\n",
       "    <tr>\n",
       "      <th>399</th>\n",
       "      <td>195.5</td>\n",
       "      <td>200</td>\n",
       "      <td>2.31</td>\n",
       "      <td>161.8</td>\n",
       "    </tr>\n",
       "  </tbody>\n",
       "</table>\n",
       "<p>400 rows × 4 columns</p>\n",
       "</div>"
      ],
      "text/plain": [
       "     Send Rates  Block Size  Avg Latency  Throughput\n",
       "0          10.0          10         0.30        10.0\n",
       "1          10.0          20         0.81        10.0\n",
       "2          10.0          30         1.13         9.9\n",
       "3          10.0          40         1.14         9.9\n",
       "4          10.0          50         1.14         9.9\n",
       "..          ...         ...          ...         ...\n",
       "395       193.2         160         2.90       159.0\n",
       "396       200.9         170         2.23       154.9\n",
       "397       199.8         180         2.01       157.2\n",
       "398       200.6         190         2.11       160.4\n",
       "399       195.5         200         2.31       161.8\n",
       "\n",
       "[400 rows x 4 columns]"
      ]
     },
     "execution_count": 51,
     "metadata": {},
     "output_type": "execute_result"
    }
   ],
   "source": [
    "df3"
   ]
  },
  {
   "cell_type": "code",
   "execution_count": 52,
   "id": "bbbfd9f1",
   "metadata": {},
   "outputs": [
    {
     "name": "stdout",
     "output_type": "stream",
     "text": [
      "        Send Rates  Block Size  Avg Latency   Throughput\n",
      "count  3120.000000  3120.00000  3120.000000  3120.000000\n",
      "mean    104.418365   405.00000     1.236087    88.595897\n",
      "std      55.159613   230.95908     0.508742    42.911369\n",
      "min      10.000000    10.00000     0.080000     9.800000\n",
      "25%      55.300000   207.50000     0.920000    53.475000\n",
      "50%     105.400000   405.00000     1.160000    96.300000\n",
      "75%     154.800000   602.50000     1.290000   120.600000\n",
      "max     200.800000   800.00000     4.130000   161.600000\n"
     ]
    }
   ],
   "source": [
    "summary_new = df_new.describe(include='all')\n",
    "print(summary_new)"
   ]
  },
  {
   "cell_type": "code",
   "execution_count": 53,
   "id": "7d028968",
   "metadata": {},
   "outputs": [
    {
     "name": "stdout",
     "output_type": "stream",
     "text": [
      "       Send Rates  Block Size  Avg Latency  Throughput\n",
      "count  400.000000  400.000000   400.000000  400.000000\n",
      "mean   104.537500  105.000000     0.922775   86.783750\n",
      "std     56.817358   57.735027     0.427756   42.930622\n",
      "min     10.000000   10.000000     0.080000    9.800000\n",
      "25%     57.725000   57.500000     0.650000   52.725000\n",
      "50%    105.350000  105.000000     0.880000   92.350000\n",
      "75%    150.700000  152.500000     1.160000  121.325000\n",
      "max    200.700000  200.000000     2.730000  177.200000\n"
     ]
    }
   ],
   "source": [
    "summary_1 = df1.describe(include='all')\n",
    "print(summary_1)"
   ]
  },
  {
   "cell_type": "code",
   "execution_count": 54,
   "id": "c99eb27a",
   "metadata": {},
   "outputs": [
    {
     "name": "stdout",
     "output_type": "stream",
     "text": [
      "       Send Rates  Block Size  Avg Latency  Throughput\n",
      "count  400.000000  400.000000   400.000000  400.000000\n",
      "mean   105.108500  105.000000     0.995125   87.026000\n",
      "std     57.655548   57.735027     0.605437   42.910883\n",
      "min     10.000000   10.000000     0.070000    9.800000\n",
      "25%     57.725000   57.500000     0.630000   50.175000\n",
      "50%    100.500000  105.000000     0.875000   94.200000\n",
      "75%    150.600000  152.500000     1.180000  121.500000\n",
      "max    200.800000  200.000000     3.880000  162.400000\n"
     ]
    }
   ],
   "source": [
    "summary_2 = df2.describe(include='all')\n",
    "print(summary_2)"
   ]
  },
  {
   "cell_type": "code",
   "execution_count": 55,
   "id": "80e783fb",
   "metadata": {},
   "outputs": [
    {
     "name": "stdout",
     "output_type": "stream",
     "text": [
      "       Send Rates  Block Size  Avg Latency  Throughput\n",
      "count  400.000000  400.000000   400.000000  400.000000\n",
      "mean   105.006250  105.000000     0.970250   87.692250\n",
      "std     57.426536   57.735027     0.563796   43.244145\n",
      "min     10.000000   10.000000     0.060000    9.800000\n",
      "25%     57.700000   57.500000     0.640000   52.650000\n",
      "50%    105.300000  105.000000     0.915000   96.250000\n",
      "75%    151.000000  152.500000     1.180000  121.325000\n",
      "max    200.900000  200.000000     3.170000  162.800000\n"
     ]
    }
   ],
   "source": [
    "summary_3 = df3.describe(include='all')\n",
    "print(summary_3)"
   ]
  },
  {
   "cell_type": "code",
   "execution_count": 56,
   "id": "44e8c2e1",
   "metadata": {},
   "outputs": [
    {
     "name": "stdout",
     "output_type": "stream",
     "text": [
      "Send Rates     float64\n",
      "Block Size       int64\n",
      "Avg Latency    float64\n",
      "Throughput     float64\n",
      "dtype: object\n"
     ]
    }
   ],
   "source": [
    "print(df_new.dtypes)"
   ]
  },
  {
   "cell_type": "code",
   "execution_count": 57,
   "id": "bf46fad2",
   "metadata": {},
   "outputs": [
    {
     "name": "stdout",
     "output_type": "stream",
     "text": [
      "Send Rates     float64\n",
      "Block Size       int64\n",
      "Avg Latency    float64\n",
      "Throughput     float64\n",
      "dtype: object\n"
     ]
    }
   ],
   "source": [
    "print(df1.dtypes)"
   ]
  },
  {
   "cell_type": "code",
   "execution_count": 58,
   "id": "ebf0c47b",
   "metadata": {},
   "outputs": [
    {
     "name": "stdout",
     "output_type": "stream",
     "text": [
      "Send Rates     float64\n",
      "Block Size       int64\n",
      "Avg Latency    float64\n",
      "Throughput     float64\n",
      "dtype: object\n"
     ]
    }
   ],
   "source": [
    "print(df2.dtypes)"
   ]
  },
  {
   "cell_type": "code",
   "execution_count": 59,
   "id": "f297c7c9",
   "metadata": {},
   "outputs": [
    {
     "name": "stdout",
     "output_type": "stream",
     "text": [
      "Send Rates     float64\n",
      "Block Size       int64\n",
      "Avg Latency    float64\n",
      "Throughput     float64\n",
      "dtype: object\n"
     ]
    }
   ],
   "source": [
    "print(df3.dtypes)"
   ]
  },
  {
   "cell_type": "code",
   "execution_count": null,
   "id": "bf43b436",
   "metadata": {},
   "outputs": [],
   "source": []
  },
  {
   "cell_type": "code",
   "execution_count": null,
   "id": "70c020c1",
   "metadata": {},
   "outputs": [],
   "source": []
  },
  {
   "cell_type": "code",
   "execution_count": null,
   "id": "e2fb50d2",
   "metadata": {},
   "outputs": [],
   "source": []
  },
  {
   "cell_type": "code",
   "execution_count": null,
   "id": "2a79fe3e",
   "metadata": {},
   "outputs": [],
   "source": []
  }
 ],
 "metadata": {
  "kernelspec": {
   "display_name": "Python 3 (ipykernel)",
   "language": "python",
   "name": "python3"
  },
  "language_info": {
   "codemirror_mode": {
    "name": "ipython",
    "version": 3
   },
   "file_extension": ".py",
   "mimetype": "text/x-python",
   "name": "python",
   "nbconvert_exporter": "python",
   "pygments_lexer": "ipython3",
   "version": "3.11.3"
  }
 },
 "nbformat": 4,
 "nbformat_minor": 5
}
